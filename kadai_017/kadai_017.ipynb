{
  "nbformat": 4,
  "nbformat_minor": 0,
  "metadata": {
    "colab": {
      "provenance": []
    },
    "kernelspec": {
      "name": "python3",
      "display_name": "Python 3"
    },
    "language_info": {
      "name": "python"
    }
  },
  "cells": [
    {
      "cell_type": "code",
      "execution_count": 6,
      "metadata": {
        "colab": {
          "base_uri": "https://localhost:8080/"
        },
        "id": "0UevnNfRgM7I",
        "outputId": "fce9e131-146d-44c6-9bdd-309b871d0fa1"
      },
      "outputs": [
        {
          "output_type": "stream",
          "name": "stdout",
          "text": [
            "侍さんは大人じゃありません\n",
            "寺子さんは大人です\n",
            "りんごさんは大人じゃありません\n",
            "みかんさんは大人です\n"
          ]
        }
      ],
      "source": [
        "class Human:\n",
        "  def __init__(self,name,age):\n",
        "    self.name = name\n",
        "    self.age = age\n",
        "\n",
        "  def check_adult(self):\n",
        "    if self.age >= 20:\n",
        "      print(f\"{self.name}さんは大人です\")\n",
        "    else:\n",
        "      print(f\"{self.name}さんは大人じゃありません\")\n",
        "\n",
        "A = Human(\"侍\",6)\n",
        "B = Human(\"寺子\",21)\n",
        "C = Human(\"りんご\",3)\n",
        "D = Human(\"みかん\",80)\n",
        "\n",
        "member = [A,B,C,D]\n",
        "\n",
        "for i in member:\n",
        "  i.check_adult()\n",
        "\n"
      ]
    }
  ]
}